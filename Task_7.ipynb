{
  "nbformat": 4,
  "nbformat_minor": 0,
  "metadata": {
    "colab": {
      "provenance": [],
      "mount_file_id": "17xKEZCdBjrIwMryr0kcdtri97u5GX4LZ",
      "authorship_tag": "ABX9TyP7BWZPl6aD2I19+WxYbECu",
      "include_colab_link": true
    },
    "kernelspec": {
      "name": "python3",
      "display_name": "Python 3"
    },
    "language_info": {
      "name": "python"
    }
  },
  "cells": [
    {
      "cell_type": "markdown",
      "metadata": {
        "id": "view-in-github",
        "colab_type": "text"
      },
      "source": [
        "<a href=\"https://colab.research.google.com/github/aditya-15-stack/task-7/blob/main/Task_7.ipynb\" target=\"_parent\"><img src=\"https://colab.research.google.com/assets/colab-badge.svg\" alt=\"Open In Colab\"/></a>"
      ]
    },
    {
      "cell_type": "code",
      "execution_count": 1,
      "metadata": {
        "colab": {
          "base_uri": "https://localhost:8080/",
          "height": 574
        },
        "id": "FrGw3GLoLQ7V",
        "outputId": "b1d3627b-93dc-48c1-b3e0-c760f5c004ad"
      },
      "outputs": [
        {
          "output_type": "stream",
          "name": "stdout",
          "text": [
            "Sales Summary:\n",
            "  product  total_qty  revenue\n",
            "0   Apple         15      7.5\n",
            "1  Banana         30      6.0\n",
            "2  Orange         15      4.5\n"
          ]
        },
        {
          "output_type": "display_data",
          "data": {
            "text/plain": [
              "<Figure size 640x480 with 1 Axes>"
            ],
            "image/png": "[encoded data removed]"
          },
          "metadata": {}
        }
      ],
      "source": [
        "import sqlite3\n",
        "import pandas as pd\n",
        "import matplotlib.pyplot as plt\n",
        "\n",
        "# Connect to an SQLite database (it creates a file in Colab's memory space)\n",
        "conn = sqlite3.connect(\"sales_data.db\")\n",
        "cursor = conn.cursor()\n",
        "\n",
        "# Create table\n",
        "cursor.execute(\"\"\"\n",
        "CREATE TABLE IF NOT EXISTS sales (\n",
        "    id INTEGER PRIMARY KEY,\n",
        "    product TEXT,\n",
        "    quantity INTEGER,\n",
        "    price REAL\n",
        ")\n",
        "\"\"\")\n",
        "\n",
        "# Clear old data\n",
        "cursor.execute(\"DELETE FROM sales\")\n",
        "\n",
        "# Insert sample data\n",
        "sample_data = [\n",
        "    ('Apple', 10, 0.5),\n",
        "    ('Banana', 20, 0.2),\n",
        "    ('Orange', 15, 0.3),\n",
        "    ('Apple', 5, 0.5),\n",
        "    ('Banana', 10, 0.2),\n",
        "]\n",
        "cursor.executemany(\"INSERT INTO sales (product, quantity, price) VALUES (?, ?, ?)\", sample_data)\n",
        "conn.commit()\n",
        "\n",
        "# Query data\n",
        "query = \"\"\"\n",
        "SELECT\n",
        "    product,\n",
        "    SUM(quantity) AS total_qty,\n",
        "    SUM(quantity * price) AS revenue\n",
        "FROM sales\n",
        "GROUP BY product\n",
        "\"\"\"\n",
        "df = pd.read_sql_query(query, conn)\n",
        "\n",
        "# Print results\n",
        "print(\"Sales Summary:\")\n",
        "print(df)\n",
        "\n",
        "# Plot bar chart\n",
        "df.plot(kind='bar', x='product', y='revenue', legend=False, color='orange')\n",
        "plt.title(\"Revenue by Product\")\n",
        "plt.xlabel(\"Product\")\n",
        "plt.ylabel(\"Revenue\")\n",
        "plt.tight_layout()\n",
        "plt.show()\n",
        "\n",
        "# Close connection\n",
        "conn.close()\n"
      ]
    }
  ]
}